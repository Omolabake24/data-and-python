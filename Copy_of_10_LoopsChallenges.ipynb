{
  "nbformat": 4,
  "nbformat_minor": 0,
  "metadata": {
    "colab": {
      "provenance": [],
      "include_colab_link": true
    },
    "kernelspec": {
      "name": "python3",
      "display_name": "Python 3"
    }
  },
  "cells": [
    {
      "cell_type": "markdown",
      "metadata": {
        "id": "view-in-github",
        "colab_type": "text"
      },
      "source": [
        "<a href=\"https://colab.research.google.com/github/Omolabake24/data-and-python/blob/main/Copy_of_10_LoopsChallenges.ipynb\" target=\"_parent\"><img src=\"https://colab.research.google.com/assets/colab-badge.svg\" alt=\"Open In Colab\"/></a>"
      ]
    },
    {
      "cell_type": "markdown",
      "metadata": {
        "id": "lGjlNDuSFdXx"
      },
      "source": [
        "# Loop Challenges\n",
        "\n",
        "---\n",
        "\n",
        "Each of these challenges will need a loop.  This may be a **while** loop or a **for** loop, you will need to decide which is needed."
      ]
    },
    {
      "cell_type": "markdown",
      "metadata": {
        "id": "nSx5LRcdLzx-"
      },
      "source": [
        "---\n",
        "## Challenge 1 - Sum of random numbers\n",
        "Write a function called **random_generator()** where python generates random numbers between 1 and 100 until the number 1 is generated.\n",
        "\n",
        "* use `randint(1, 100)` to generate random numbers\n",
        "* keep a running `total` - add numbers as they are generated\n",
        "* print `total` at the end\n",
        "* print the final generated number (should be 1) to check your function is working\n",
        "\n",
        "Example input (computer):\n",
        "\n",
        "10  \n",
        "78  \n",
        "6  \n",
        "42  \n",
        "56  \n",
        "81  \n",
        "15   \n",
        "1  \n",
        "\n",
        "Expected output:  \n",
        "\n",
        "289  \n",
        "1  "
      ]
    },
    {
      "cell_type": "code",
      "metadata": {
        "id": "FRRBydPTN3cv",
        "colab": {
          "base_uri": "https://localhost:8080/"
        },
        "outputId": "a50150fc-2fd6-4121-dbb4-7cd3b068439d"
      },
      "source": [
        "from random import randint\n",
        "\n",
        "def random_generator():\n",
        "    total = 0\n",
        "    while True:\n",
        "        number = randint(1, 100)\n",
        "        total += number\n",
        "        print( number)\n",
        "        if number == 1:\n",
        "            break\n",
        "\n",
        "    print(\"Total:\", total)\n",
        "    print(\"Final generated number:\", number)\n",
        "\n",
        "random_generator()\n",
        "\n"
      ],
      "execution_count": 3,
      "outputs": [
        {
          "output_type": "stream",
          "name": "stdout",
          "text": [
            "74\n",
            "53\n",
            "47\n",
            "21\n",
            "9\n",
            "100\n",
            "58\n",
            "12\n",
            "51\n",
            "83\n",
            "68\n",
            "30\n",
            "21\n",
            "82\n",
            "11\n",
            "58\n",
            "51\n",
            "72\n",
            "38\n",
            "76\n",
            "81\n",
            "48\n",
            "53\n",
            "62\n",
            "87\n",
            "98\n",
            "66\n",
            "76\n",
            "92\n",
            "92\n",
            "12\n",
            "14\n",
            "44\n",
            "1\n",
            "Total: 1841\n",
            "Final generated number: 1\n"
          ]
        }
      ]
    },
    {
      "cell_type": "markdown",
      "metadata": {
        "id": "aX8me4xxPMc0"
      },
      "source": [
        "---\n",
        "## Challenge 2 - Factorials\n",
        "\n",
        "Factorial of any number n is represented by n! and is equal to 1*2*3*....*(n-1)*n.\n",
        "\n",
        "E.g.   \n",
        "* 4! = 1 * 2 * 3 * 4 = 24  \n",
        "* 3! = 3 * 2 * 1 = 6\n",
        "* 2! = 2 * 1 = 2  \n",
        " Also,\n",
        "* 1! = 1\n",
        "* 0! = 1\n",
        "\n",
        "Write a function called **calculate_factorial()** which calculates the factorial of a user inputed number.\n",
        "\n",
        "* use a *while* loop to control repetition while the number being multiplied by is less than or equal to the number it is finding the factorial of, multiply each time round the loop  \n",
        "* print the answer at the end\n",
        "\n",
        "Test input:  \n",
        "\n",
        "6   \n",
        "10  \n",
        "1  \n",
        "0  \n",
        "\n",
        "Expected output:  \n",
        "\n",
        "720  \n",
        "3,628,800  \n",
        "1  \n",
        "1  \n",
        "\n",
        "### Extra challenge\n",
        "\n",
        "Can you write a function to calculate factorials but using a *for* loop instead?\n",
        "\n",
        "\n"
      ]
    },
    {
      "cell_type": "code",
      "metadata": {
        "id": "qcXqzf_lQDOv",
        "colab": {
          "base_uri": "https://localhost:8080/"
        },
        "outputId": "3a9205d0-ee4a-4df3-c028-a0c9b0f1218c"
      },
      "source": [
        "def calculate_factorial():\n",
        "    number = int(input(\"Enter a number to calculate its factorial: \"))\n",
        "    factorial = 1\n",
        "    i = 1\n",
        "    while i <= number:\n",
        "        factorial *= i\n",
        "        i += 1\n",
        "    print(factorial)\n",
        "\n",
        "calculate_factorial()\n"
      ],
      "execution_count": 7,
      "outputs": [
        {
          "output_type": "stream",
          "name": "stdout",
          "text": [
            "Enter a number to calculate its factorial: 0\n",
            "1\n"
          ]
        }
      ]
    },
    {
      "cell_type": "code",
      "source": [
        "def calculate_factorial():\n",
        "    number = int(input(\"Enter a number to calculate its factorial: \"))\n",
        "    factorial = 1\n",
        "    for i in range(1, number + 1):\n",
        "        factorial *= i\n",
        "    print(factorial)\n",
        "\n",
        "calculate_factorial()\n"
      ],
      "metadata": {
        "colab": {
          "base_uri": "https://localhost:8080/"
        },
        "id": "x8BKgjFTU7ZE",
        "outputId": "0dd6eceb-ab8a-4de7-a8ce-ad8d7d420e0c"
      },
      "execution_count": 9,
      "outputs": [
        {
          "output_type": "stream",
          "name": "stdout",
          "text": [
            "Enter a number to calculate its factorial: 10\n",
            "3628800\n"
          ]
        }
      ]
    },
    {
      "cell_type": "markdown",
      "metadata": {
        "id": "q1q-bTvERBHm"
      },
      "source": [
        "---\n",
        "## Challenge 3 - rolling a dice\n",
        "\n",
        "Write a function called **roll_dice()** that will use the `randint()` function from random to create random dice rolls for two dice.\n",
        "\n",
        "*  'roll' the two dice 6 times and count how many doubles were rolled in those 6 rolls.\n",
        "*  use a *for* loop\n",
        "\n",
        "*Hint: to throw a dice use the following:*\n",
        "\n",
        "`dice1 = randint(1,6)`\n",
        "\n",
        "Example input (computer):  \n",
        "\n",
        "4 1   \n",
        "5 5   \n",
        "6 3   \n",
        "2 2   \n",
        "3 4  \n",
        "1 1\n",
        "\n",
        "Expected output:\n",
        "\n",
        "3   "
      ]
    },
    {
      "cell_type": "code",
      "metadata": {
        "id": "tppPCMWHR5Vv",
        "colab": {
          "base_uri": "https://localhost:8080/"
        },
        "outputId": "5ea48826-684a-4369-8b65-677bc53fcbac"
      },
      "source": [
        "from random import randint\n",
        "\n",
        "# Add your function below here\n",
        "\n",
        "\n",
        "\n",
        "def roll_dice():\n",
        "    doubles_count = 0\n",
        "    for i in range(6):\n",
        "        dice1 = randint(1, 6)\n",
        "        dice2 = randint(1, 6)\n",
        "        print(dice1, dice2)\n",
        "        if dice1 == dice2:\n",
        "            doubles_count += 1\n",
        "    return doubles_count\n",
        "\n",
        "doubles_count = roll_dice()\n",
        "print(\"Number of doubles rolled:\", doubles_count)\n"
      ],
      "execution_count": 21,
      "outputs": [
        {
          "output_type": "stream",
          "name": "stdout",
          "text": [
            "2 2\n",
            "1 1\n",
            "2 5\n",
            "1 5\n",
            "1 1\n",
            "3 5\n",
            "Number of doubles rolled: 3\n"
          ]
        }
      ]
    },
    {
      "cell_type": "markdown",
      "metadata": {
        "id": "Kn0hb-ORSETx"
      },
      "source": [
        "---\n",
        "## Challenge 4 - fizz buzz\n",
        "\n",
        "Write a function called **fizz_buzz()** using a *for* loop which:\n",
        "\n",
        "* iterates over the numbers 1 to 30   \n",
        "* if the **number** is a multiple of 3 - print \"fizz\" instead of the `number`  \n",
        "* if it is a multiple of 5 - print \"buzz\" instead of the `number`   \n",
        "* if it is a multiple of both 3 and 5 - print \"fizzbuzz\" instead of the `number`    \n",
        "\n",
        "Expected Output:   \n",
        "1  \n",
        "2  \n",
        "fizz  \n",
        "4  \n",
        "buzz  \n",
        "fizz  \n",
        "7  \n",
        "8  \n",
        "fizz  \n",
        "buzz  \n",
        "11  \n",
        "fizz  \n",
        "13  \n",
        "14  \n",
        "fizzbuzz  \n",
        "16  \n",
        "17  \n",
        "fizz  \n",
        "19  \n",
        "buzz  \n",
        "fizz  \n",
        "22  \n",
        "23  \n",
        "fizz  \n",
        "buzz  \n",
        "26  \n",
        "fizz  \n",
        "28  \n",
        "29  \n",
        "fizzbuzz  "
      ]
    },
    {
      "cell_type": "code",
      "metadata": {
        "id": "L3CBRgNdSZhy",
        "colab": {
          "base_uri": "https://localhost:8080/"
        },
        "outputId": "4a3c1e5a-d96f-4a36-ab9e-329a7be8e7e5"
      },
      "source": [
        "def fizz_buzz():\n",
        "    for num in range(1, 31):\n",
        "        if num % 3 == 0 and num % 5 == 0:\n",
        "            print(\"fizzbuzz\")\n",
        "        elif num % 3 == 0:\n",
        "            print(\"fizz\")\n",
        "        elif num % 5 == 0:\n",
        "            print(\"buzz\")\n",
        "        else:\n",
        "            print(num)\n",
        "\n",
        "fizz_buzz()\n"
      ],
      "execution_count": 22,
      "outputs": [
        {
          "output_type": "stream",
          "name": "stdout",
          "text": [
            "1\n",
            "2\n",
            "fizz\n",
            "4\n",
            "buzz\n",
            "fizz\n",
            "7\n",
            "8\n",
            "fizz\n",
            "buzz\n",
            "11\n",
            "fizz\n",
            "13\n",
            "14\n",
            "fizzbuzz\n",
            "16\n",
            "17\n",
            "fizz\n",
            "19\n",
            "buzz\n",
            "fizz\n",
            "22\n",
            "23\n",
            "fizz\n",
            "buzz\n",
            "26\n",
            "fizz\n",
            "28\n",
            "29\n",
            "fizzbuzz\n"
          ]
        }
      ]
    },
    {
      "cell_type": "markdown",
      "metadata": {
        "id": "xFo3wYgkTBLs"
      },
      "source": [
        "---\n",
        "## Challenge 5 - perfect numbers\n",
        "\n",
        "Write a function called **check_perfect()** which checks whether a given number is perfect or not.\n",
        "\n",
        "* *a perfect number is a positive integer that is equal to the sum of its positive factors (factors > 0) excluding the number itself.*\n",
        "* *it is also half the sum of all positive factors including itself*\n",
        "\n",
        "\n",
        "*For example:*  \n",
        "*6 is a perfect number. It's only factors are 1, 2 & 3.   \n",
        "1 + 2 + 3 = 6  \n",
        "(1 + 2 + 3 + 6)/2 =6*  \n",
        "\n",
        "**Your function will:**\n",
        "\n",
        "* ask the user to input a **number**\n",
        "* find all of the given numbers that are positive factors, adding them together as it goes through the loop\n",
        "* check whether `number` is perfect or not (both checks)  \n",
        "* print either `number` is perfect or `number` is not perfect\n",
        "\n",
        "Test input:  \n",
        "6   \n",
        "23   \n",
        "28\n",
        "\n",
        "Expected output:  \n",
        "6 is perfect   \n",
        "23 is not perfect  \n",
        "28 is perfect    \n",
        "\n",
        "\n",
        "\n"
      ]
    },
    {
      "cell_type": "code",
      "metadata": {
        "id": "RsYuicPCWHqo",
        "colab": {
          "base_uri": "https://localhost:8080/"
        },
        "outputId": "2824d323-9673-4c95-f8da-78385d20bc0f"
      },
      "source": [
        "def check_perfect():\n",
        "    number = int(input(\"Enter a number to check if it's perfect: \"))\n",
        "    number_sum = 0\n",
        "\n",
        "    for i in range(1, number):\n",
        "        if number % i == 0:\n",
        "            number_sum += i\n",
        "\n",
        "    if number_sum == number and (number_sum + number) / 2 == number:\n",
        "        print(number, \"is a perfect number.\")\n",
        "    else:\n",
        "        print(number, \"is not a perfect number.\")\n",
        "\n",
        "check_perfect()\n"
      ],
      "execution_count": 28,
      "outputs": [
        {
          "output_type": "stream",
          "name": "stdout",
          "text": [
            "Enter a number to check if it's perfect: 28\n",
            "28 is a perfect number.\n"
          ]
        }
      ]
    },
    {
      "cell_type": "markdown",
      "metadata": {
        "id": "i8sxKhcEH11h"
      },
      "source": [
        "## Challenge 6 - Passcode   \n",
        "\n",
        "Write a function called **guess_letter(passcode, missing_letter)** which will allow a user to play a game with the computer.  \n",
        "\n",
        "* the computer needs to 'generate' a random passcode with a missing letter (this is done for you)   \n",
        "* the user has up to three attempts to guess the missing letter in a passcode.  \n",
        "\n",
        "### the passcode generator  \n",
        "\n",
        "This code is given to you and will choose 4 letters in the range A-Z (capitals only) and randomly selecting one to be replaced by a *  \n",
        "\n",
        "**Your function should follow these rules:**\n",
        "\n",
        "*  ask the user to enter the missing **letter**  \n",
        "*  count the **attempt**  \n",
        "* if the letter is correct, print the message \"Correct passcode\" and then stop    \n",
        "* if the letter is incorrect, print the message, \"You have `attempts` attempts left\"  \n",
        "* if three wrong attempts have been made and the user hasn't entered the correct letter, print \"No more attempts\"  \n",
        "\n",
        "Example input (computer):  \n",
        "\n",
        "NR*R , B\n",
        "\n",
        "Example input (user):  \n",
        "A    \n",
        "B  \n",
        "C  \n",
        "\n",
        "Expected output:  \n",
        "No more attempts   \n",
        "\n",
        "Example input (computer):  \n",
        "A*RD , T  \n",
        "\n",
        "Example input (user):  \n",
        "T    \n",
        "\n",
        "Expected output:  \n",
        "Correct passcode  \n",
        "\n",
        "Example input (computer):  \n",
        "*FES , F  \n",
        "\n",
        "Example input (user):  \n",
        "T\n",
        "F    \n",
        "\n",
        "Expected output:  \n",
        "You have 2 attempts left\n",
        "Correct passcode"
      ]
    },
    {
      "cell_type": "code",
      "metadata": {
        "id": "NJp2CgvtKP2Q",
        "colab": {
          "base_uri": "https://localhost:8080/"
        },
        "outputId": "b37aac76-b21a-42be-b879-c1770c0264e9"
      },
      "source": [
        "### importing package random\n",
        "from random import choice, randint\n",
        "\n",
        "def guess_passcode():\n",
        "# add your code below here:\n",
        "### code to generate a passcode with a missing letter, then run the function guess_passcode\n",
        "### DO NOT change anything below here\n",
        "    passcode = \"\"\n",
        "    letters = [chr(a) for a in range(ord('A'),ord('Z')+1)] # generate the letter between A and Z\n",
        "    missing_position = randint(0,4)\n",
        "    missing_letter = \"*\"\n",
        "    for i in range(4):\n",
        "      letter = choice(letters)\n",
        "      if i == missing_position:\n",
        "        missing_letter = letter\n",
        "        passcode += \"*\"\n",
        "      else:\n",
        "        passcode += letter\n",
        "    return passcode, missing_letter\n",
        "def guess_letter(passcode, missing_letter):\n",
        "    attempts = 0\n",
        "    while attempts < 3:\n",
        "        guess = input(\"Enter the missing letter in the passcode: \").upper()\n",
        "        attempts += 1\n",
        "        if guess == missing_letter:\n",
        "            print(\"Correct passcode\")\n",
        "            return\n",
        "        else:\n",
        "            print(f\"You have {3 - attempts} attempts left\")\n",
        "\n",
        "    print(\"No more attempts\")\n",
        "passcode,missing_letter = guess_passcode()\n",
        "guess_letter(passcode, missing_letter)\n",
        "print(passcode, missing_letter)"
      ],
      "execution_count": 56,
      "outputs": [
        {
          "output_type": "stream",
          "name": "stdout",
          "text": [
            "Enter the missing letter in the passcode: a\n",
            "You have 2 attempts left\n",
            "Enter the missing letter in the passcode: g\n",
            "You have 1 attempts left\n",
            "Enter the missing letter in the passcode: s\n",
            "You have 0 attempts left\n",
            "No more attempts\n",
            "J*EE P\n"
          ]
        }
      ]
    }
  ]
}