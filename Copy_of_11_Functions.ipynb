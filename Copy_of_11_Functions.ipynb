{
  "nbformat": 4,
  "nbformat_minor": 0,
  "metadata": {
    "colab": {
      "provenance": [],
      "include_colab_link": true
    },
    "kernelspec": {
      "name": "python3",
      "display_name": "Python 3"
    },
    "language_info": {
      "name": "python"
    }
  },
  "cells": [
    {
      "cell_type": "markdown",
      "metadata": {
        "id": "view-in-github",
        "colab_type": "text"
      },
      "source": [
        "<a href=\"https://colab.research.google.com/github/Omolabake24/data-and-python/blob/main/Copy_of_11_Functions.ipynb\" target=\"_parent\"><img src=\"https://colab.research.google.com/assets/colab-badge.svg\" alt=\"Open In Colab\"/></a>"
      ]
    },
    {
      "cell_type": "markdown",
      "metadata": {
        "id": "0T-HIDf3FgQK"
      },
      "source": [
        "# Python functions\n",
        "\n",
        "---"
      ]
    },
    {
      "cell_type": "markdown",
      "metadata": {
        "id": "YM-csYt5FrvE"
      },
      "source": [
        "You have already been using functions that are provided with Python  \n",
        "*  print()\n",
        "*  input()\n",
        "*  randint() *(from random)*\n",
        "\n",
        "You can tell that they are functions because they have brackets after the name. Often there is some data in the brackets (ie something that you want the function to use on this occasion)\n",
        "\n",
        "*  print(\"Hello\")\n",
        "*  input(\"What is your name? \")\n",
        "*  randint(1,6) *(from the random function library)*\n",
        "\n",
        "The data is called a *parameter* or an *argument*.  There can be any number of parameters passed to a function.  Order is important but can sometimes be overridden.\n",
        "\n",
        "Some functions just do something (e.g. print(\"Hello\") will just print the word Hello)..  \n",
        "\n",
        "Other functions produce some new data which you will assign to a variable:  \n",
        "```\n",
        "name = input(\"What is your name? \")  \n",
        "dice_roll = randint(1,6)\n",
        "```\n",
        "\n",
        "Each time you use a function's name in your program, or in another function, you are calling it and it will run.\n",
        "\n"
      ]
    },
    {
      "cell_type": "markdown",
      "metadata": {
        "id": "Gzod-awDOrGj"
      },
      "source": [
        "---\n",
        "### Exercise 1 - len() of a string\n",
        "\n",
        "Write a function called **get_password()** which will get a password of 8 characters:  \n",
        "\n",
        "*  assign the value \"\" to a variable called **password**  \n",
        "*  start a while loop that will continue to loop while the length of `password` is not 8 characters    \n",
        "*  in the loop:  ask the user to enter a `password`\n",
        "*  after the loop, *return* the password to the calling program, which will print the valid password.  \n",
        "\n",
        "Test input:  \n",
        "abddgejkfjkl   \n",
        "999999999  \n",
        "ABCDEFH   \n",
        "\n",
        "Expected output:  \n",
        "ABCDEFGH  "
      ]
    },
    {
      "cell_type": "code",
      "source": [
        "def get_password():\n",
        "  # add your code below here\n",
        "    password = \"\"\n",
        "    while len(password) != 8:\n",
        "        password = input(\"Enter a password (8 characters): \")\n",
        "    return password\n",
        "\n",
        "\n",
        "\n",
        "\n",
        "print(get_password())"
      ],
      "metadata": {
        "colab": {
          "base_uri": "https://localhost:8080/"
        },
        "id": "w6VjmXH1yKxD",
        "outputId": "94985894-fda4-476e-a86b-aa8eda559026"
      },
      "execution_count": 11,
      "outputs": [
        {
          "output_type": "stream",
          "name": "stdout",
          "text": [
            "Enter a password (8 characters): abddgejkfjkl\n",
            "Enter a password (8 characters): 999999999\n",
            "Enter a password (8 characters): ABCDEFGH\n",
            "ABCDEFGH\n"
          ]
        }
      ]
    },
    {
      "cell_type": "markdown",
      "metadata": {
        "id": "pTC1HwRUQMSa"
      },
      "source": [
        "---\n",
        "### Exercise 2 - capitalise username\n",
        "\n",
        "Write a function called **get_username()** which will:  \n",
        "\n",
        "*  ask the user for a **username**  \n",
        "*  convert the `username` to upper case and assign the new value to a variable called **username_upper**   \n",
        "*  create a new variable **message**\n",
        "* if `username_upper` is \"ADMINUSER1\" then assign \"Valid user\" to ```message```, otherwise assign the value \"Invalid username\".  \n",
        "*  *return* the ```message```.  The calling program will print the message.  \n",
        "\n",
        "Test input:  \n",
        "admin\n",
        "\n",
        "Expected output:  \n",
        "Invalid username\n",
        "\n",
        "Test input:  \n",
        "AdminUser1\n",
        "\n",
        "Expected output:  \n",
        "Valid user  \n"
      ]
    },
    {
      "cell_type": "code",
      "metadata": {
        "id": "0vusDz8YQMdB",
        "colab": {
          "base_uri": "https://localhost:8080/"
        },
        "outputId": "cfb04678-2946-4740-b001-3cb14545f1e8"
      },
      "source": [
        "def get_username():\n",
        "    username = input(\"Enter your username: \")\n",
        "    username_upper = username.upper()\n",
        "    message = \"\"\n",
        "    if username_upper == \"ADMINUSER1\":\n",
        "        message = \"Valid user\"\n",
        "    else:\n",
        "        message = \"Invalid username\"\n",
        "    return message\n",
        "\n",
        "print(get_username())\n"
      ],
      "execution_count": 8,
      "outputs": [
        {
          "output_type": "stream",
          "name": "stdout",
          "text": [
            "Enter your username: AdminUser1\n",
            "Valid user\n"
          ]
        }
      ]
    },
    {
      "cell_type": "markdown",
      "metadata": {
        "id": "SUcNgc6bRfha"
      },
      "source": [
        "---\n",
        "### Exercise 3 - select correct message\n",
        "\n",
        "Write a function called **get_credentials()** which will:  \n",
        "\n",
        "*  ask the user for a **username**  \n",
        "*  ask the user for a **password**  \n",
        "*  *return* one of the following messages:\n",
        "*  *  \"Credentials accepted\"  \n",
        "*  *  \"Invalid user\"  \n",
        "*  *  \"Password too short\"  \n",
        "\n",
        "Note:  `username` must be \"AdminUser1\" and the password must be at least 8 characters.  The calling program will print the message.  \n",
        "\n",
        "Test input:  \n",
        "AdminUser1\n",
        "abc999def\n",
        "\n",
        "Expected output:  \n",
        "Credentials accepted\n",
        "\n",
        "Test input:  \n",
        "AdminUser1\n",
        "abc\n",
        "\n",
        "Expected output:  \n",
        "Password too short  \n",
        "\n",
        "Test input:  \n",
        "User1\n",
        "abc999def\n",
        "\n",
        "Expected output:  \n",
        "Invalid user  "
      ]
    },
    {
      "cell_type": "code",
      "metadata": {
        "id": "GUjr6u9sRfrh",
        "colab": {
          "base_uri": "https://localhost:8080/"
        },
        "outputId": "fe419991-74ef-47b7-8b8a-78ad46111e3b"
      },
      "source": [
        "def get_credentials():\n",
        "    username = input(\"Enter your username: \")\n",
        "    password = input(\"Enter your password: \")\n",
        "\n",
        "    if username == \"AdminUser1\":\n",
        "        if len(password) >= 8:\n",
        "            return \"Credentials accepted\"\n",
        "        else:\n",
        "            return \"Password too short\"\n",
        "    else:\n",
        "        return \"Invalid user\"\n",
        "\n",
        "print(get_credentials())\n"
      ],
      "execution_count": 14,
      "outputs": [
        {
          "output_type": "stream",
          "name": "stdout",
          "text": [
            "Enter your username: AdminUser1\n",
            "Enter your password: abc\n",
            "Password too short\n"
          ]
        }
      ]
    },
    {
      "cell_type": "markdown",
      "metadata": {
        "id": "oVIw8G_FTWoS"
      },
      "source": [
        "---\n",
        "### Exercise 3 - round to given dp\n",
        "\n",
        "Write a function called **get_rounded_float()** which will:  \n",
        "\n",
        "*  ask the user for a decimal **number**  \n",
        "*  ask the user for a number of **places** to round to  \n",
        "*  *return* the number rounded to the requested number of decimal places\n",
        "\n",
        "Note:  The calling program will print the number.  \n",
        "\n",
        "Test input:  \n",
        "3.14159  \n",
        "2\n",
        "\n",
        "Expected output:  \n",
        "3.14  \n",
        "\n",
        "Test input:  \n",
        "98.6666666666666  \n",
        "4  \n",
        "\n",
        "Expected output:  \n",
        "98.6667  "
      ]
    },
    {
      "cell_type": "code",
      "metadata": {
        "id": "AHKffkJbTWxS",
        "colab": {
          "base_uri": "https://localhost:8080/"
        },
        "outputId": "bbd33d25-9d29-44b1-a1b4-596254962809"
      },
      "source": [
        "def get_rounded_float():\n",
        "    decimal_number = float(input(\"Enter a decimal number: \"))\n",
        "    decimal_places = int(input(\"Enter the number of decimal places to round to: \"))\n",
        "    rounded_number = round(decimal_number, decimal_places)\n",
        "    return rounded_number\n",
        "\n",
        "\n",
        "print(get_rounded_float())\n"
      ],
      "execution_count": 16,
      "outputs": [
        {
          "output_type": "stream",
          "name": "stdout",
          "text": [
            "Enter a decimal number: 98.666666666666\n",
            "Enter the number of decimal places to round to: 4\n",
            "98.6667\n"
          ]
        }
      ]
    },
    {
      "cell_type": "markdown",
      "metadata": {
        "id": "x4Nl2CQ3T9Aj"
      },
      "source": [
        "---\n",
        "### Exercise 4 - round or not\n",
        "\n",
        "Write a function called **get_rounded_float()** which will:  \n",
        "\n",
        "*  ask the user for a decimal **number**  \n",
        "*  ask the user if they would like to round the number (Y or N) assign this value to **round_number**\n",
        "*  if `round_number` is \"Y\", then ask the user for a number of **places** to round to and return the number rounded to the required number of decimal places  \n",
        "*  otherwise, return the number as it was typed in\n",
        "\n",
        "Note:  The calling program will print the number.  \n",
        "\n",
        "Test input:  \n",
        "3.14159  \n",
        "Y  \n",
        "3\n",
        "\n",
        "Expected output:  \n",
        "3.142\n",
        "\n",
        "Test input:  \n",
        "98.6666666666666  \n",
        "N\n",
        "\n",
        "Expected output:  \n",
        "98.6666666666666  "
      ]
    },
    {
      "cell_type": "code",
      "metadata": {
        "id": "kzLHRud6T9Lo",
        "colab": {
          "base_uri": "https://localhost:8080/"
        },
        "outputId": "9a74203a-bb6c-49fb-8d09-d345e4288d72"
      },
      "source": [
        "def get_rounded_float():\n",
        "    decimal_number = float(input(\"Enter a decimal number: \"))\n",
        "    round_number = input(\"Would you like to round the number? (Y/N): \").upper()\n",
        "\n",
        "    if round_number == \"Y\":\n",
        "        decimal_places = int(input(\"Enter the number of decimal places to round to: \"))\n",
        "        rounded_number = round(decimal_number, decimal_places)\n",
        "        return rounded_number\n",
        "    else:\n",
        "        return decimal_number\n",
        "\n",
        "\n",
        "print(get_rounded_float())\n"
      ],
      "execution_count": 18,
      "outputs": [
        {
          "output_type": "stream",
          "name": "stdout",
          "text": [
            "Enter a decimal number: 98.6666666666666\n",
            "Would you like to round the number? (Y/N): n\n",
            "98.6666666666666\n"
          ]
        }
      ]
    },
    {
      "cell_type": "markdown",
      "metadata": {
        "id": "o2Hl9tOFVA17"
      },
      "source": [
        "---\n",
        "### Exercise 5 - random number and places\n",
        "\n",
        "Write a function called **generate_rounded_float()** which will:  \n",
        "\n",
        "*  import the functions uniform and randint from random (from random import uniform, randint)    \n",
        "Note *: the uniform function will generate a random float between two given boundary numbers ( e.g. number = uniform(10,20)).  It is better practice to name the functions you will be using from a library rather than importing the whole library, which could be large*  \n",
        "\n",
        "*  generate a random decimal **number** between 1 and 10   \n",
        "*  print the `number`   \n",
        "*  generate a random integer **places** between 1 and 4\n",
        "*  print `places`\n",
        "*  return the `number` rounded to the given number of `places`\n",
        "\n",
        "Note:  The calling program will print the number.  \n",
        "\n",
        "Example input:  \n",
        "3.14159  \n",
        "Y  \n",
        "3\n",
        "\n",
        "Expected output:  \n",
        "3.142\n",
        "\n",
        "Test input:  \n",
        "98.6666666666666  \n",
        "N\n",
        "\n",
        "Expected output:  \n",
        "98.6666666666666"
      ]
    },
    {
      "cell_type": "code",
      "metadata": {
        "id": "c5ufi-U-VBB5",
        "colab": {
          "base_uri": "https://localhost:8080/"
        },
        "outputId": "51286a02-355b-4056-d125-3e6a38e35898"
      },
      "source": [
        "from random import uniform, randint\n",
        "\n",
        "def generate_rounded_float():\n",
        "    number = uniform(1, 10)\n",
        "    print( number)\n",
        "\n",
        "    places = randint(1, 4)\n",
        "    print(places)\n",
        "\n",
        "    rounded_number = round(number, places)\n",
        "    return rounded_number\n",
        "\n",
        "print(generate_rounded_float())\n"
      ],
      "execution_count": 22,
      "outputs": [
        {
          "output_type": "stream",
          "name": "stdout",
          "text": [
            "4.76789244861687\n",
            "3\n",
            "4.768\n"
          ]
        }
      ]
    }
  ]
}